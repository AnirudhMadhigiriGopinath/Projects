{
 "cells": [
  {
   "cell_type": "code",
   "execution_count": 1,
   "metadata": {},
   "outputs": [
    {
     "data": {
      "text/html": [
       "<div>\n",
       "<style scoped>\n",
       "    .dataframe tbody tr th:only-of-type {\n",
       "        vertical-align: middle;\n",
       "    }\n",
       "\n",
       "    .dataframe tbody tr th {\n",
       "        vertical-align: top;\n",
       "    }\n",
       "\n",
       "    .dataframe thead th {\n",
       "        text-align: right;\n",
       "    }\n",
       "</style>\n",
       "<table border=\"1\" class=\"dataframe\">\n",
       "  <thead>\n",
       "    <tr style=\"text-align: right;\">\n",
       "      <th></th>\n",
       "      <th>Name</th>\n",
       "      <th>Age</th>\n",
       "      <th>Cabin</th>\n",
       "    </tr>\n",
       "  </thead>\n",
       "  <tbody>\n",
       "    <tr>\n",
       "      <th>0</th>\n",
       "      <td>Alice</td>\n",
       "      <td>25.0</td>\n",
       "      <td>None</td>\n",
       "    </tr>\n",
       "    <tr>\n",
       "      <th>1</th>\n",
       "      <td>Bob</td>\n",
       "      <td>30.0</td>\n",
       "      <td>B12</td>\n",
       "    </tr>\n",
       "    <tr>\n",
       "      <th>2</th>\n",
       "      <td>Charlie</td>\n",
       "      <td>NaN</td>\n",
       "      <td>None</td>\n",
       "    </tr>\n",
       "    <tr>\n",
       "      <th>3</th>\n",
       "      <td>David</td>\n",
       "      <td>40.0</td>\n",
       "      <td>None</td>\n",
       "    </tr>\n",
       "  </tbody>\n",
       "</table>\n",
       "</div>"
      ],
      "text/plain": [
       "      Name   Age Cabin\n",
       "0    Alice  25.0  None\n",
       "1      Bob  30.0   B12\n",
       "2  Charlie   NaN  None\n",
       "3    David  40.0  None"
      ]
     },
     "execution_count": 1,
     "metadata": {},
     "output_type": "execute_result"
    }
   ],
   "source": [
    "import pandas as pd\n",
    "import numpy as np\n",
    "data = {'Name' : ['Alice', 'Bob', 'Charlie', 'David'],\n",
    "        'Age': [25, 30, None, 40],\n",
    "        'Cabin': [None, 'B12', None, None]}\n",
    "df = pd.DataFrame(data)\n",
    "df\n"
   ]
  },
  {
   "cell_type": "code",
   "execution_count": 2,
   "metadata": {},
   "outputs": [
    {
     "data": {
      "text/html": [
       "<div>\n",
       "<style scoped>\n",
       "    .dataframe tbody tr th:only-of-type {\n",
       "        vertical-align: middle;\n",
       "    }\n",
       "\n",
       "    .dataframe tbody tr th {\n",
       "        vertical-align: top;\n",
       "    }\n",
       "\n",
       "    .dataframe thead th {\n",
       "        text-align: right;\n",
       "    }\n",
       "</style>\n",
       "<table border=\"1\" class=\"dataframe\">\n",
       "  <thead>\n",
       "    <tr style=\"text-align: right;\">\n",
       "      <th></th>\n",
       "      <th>Name</th>\n",
       "      <th>Age</th>\n",
       "    </tr>\n",
       "  </thead>\n",
       "  <tbody>\n",
       "    <tr>\n",
       "      <th>0</th>\n",
       "      <td>Alice</td>\n",
       "      <td>25.0</td>\n",
       "    </tr>\n",
       "    <tr>\n",
       "      <th>1</th>\n",
       "      <td>Bob</td>\n",
       "      <td>30.0</td>\n",
       "    </tr>\n",
       "    <tr>\n",
       "      <th>2</th>\n",
       "      <td>Charlie</td>\n",
       "      <td>NaN</td>\n",
       "    </tr>\n",
       "    <tr>\n",
       "      <th>3</th>\n",
       "      <td>David</td>\n",
       "      <td>40.0</td>\n",
       "    </tr>\n",
       "  </tbody>\n",
       "</table>\n",
       "</div>"
      ],
      "text/plain": [
       "      Name   Age\n",
       "0    Alice  25.0\n",
       "1      Bob  30.0\n",
       "2  Charlie   NaN\n",
       "3    David  40.0"
      ]
     },
     "execution_count": 2,
     "metadata": {},
     "output_type": "execute_result"
    }
   ],
   "source": [
    "#Handling missing values\n",
    "threshold = 0.3 * len(df)\n",
    "df.dropna(axis = 1, thresh=threshold, inplace=True)\n",
    "df"
   ]
  },
  {
   "cell_type": "code",
   "execution_count": 3,
   "metadata": {},
   "outputs": [
    {
     "data": {
      "text/html": [
       "<div>\n",
       "<style scoped>\n",
       "    .dataframe tbody tr th:only-of-type {\n",
       "        vertical-align: middle;\n",
       "    }\n",
       "\n",
       "    .dataframe tbody tr th {\n",
       "        vertical-align: top;\n",
       "    }\n",
       "\n",
       "    .dataframe thead th {\n",
       "        text-align: right;\n",
       "    }\n",
       "</style>\n",
       "<table border=\"1\" class=\"dataframe\">\n",
       "  <thead>\n",
       "    <tr style=\"text-align: right;\">\n",
       "      <th></th>\n",
       "      <th>Name</th>\n",
       "      <th>Age</th>\n",
       "    </tr>\n",
       "  </thead>\n",
       "  <tbody>\n",
       "    <tr>\n",
       "      <th>0</th>\n",
       "      <td>Alice</td>\n",
       "      <td>25.0</td>\n",
       "    </tr>\n",
       "    <tr>\n",
       "      <th>1</th>\n",
       "      <td>Bob</td>\n",
       "      <td>30.0</td>\n",
       "    </tr>\n",
       "    <tr>\n",
       "      <th>2</th>\n",
       "      <td>Charlie</td>\n",
       "      <td>30.0</td>\n",
       "    </tr>\n",
       "    <tr>\n",
       "      <th>3</th>\n",
       "      <td>David</td>\n",
       "      <td>40.0</td>\n",
       "    </tr>\n",
       "  </tbody>\n",
       "</table>\n",
       "</div>"
      ],
      "text/plain": [
       "      Name   Age\n",
       "0    Alice  25.0\n",
       "1      Bob  30.0\n",
       "2  Charlie  30.0\n",
       "3    David  40.0"
      ]
     },
     "execution_count": 3,
     "metadata": {},
     "output_type": "execute_result"
    }
   ],
   "source": [
    "#Imputing with median\n",
    "from sklearn.impute import SimpleImputer\n",
    "imputer = SimpleImputer(strategy='median')\n",
    "df['Age'] = imputer.fit_transform(df[['Age']])\n",
    "df\n"
   ]
  },
  {
   "cell_type": "code",
   "execution_count": 4,
   "metadata": {},
   "outputs": [
    {
     "data": {
      "text/html": [
       "<div>\n",
       "<style scoped>\n",
       "    .dataframe tbody tr th:only-of-type {\n",
       "        vertical-align: middle;\n",
       "    }\n",
       "\n",
       "    .dataframe tbody tr th {\n",
       "        vertical-align: top;\n",
       "    }\n",
       "\n",
       "    .dataframe thead th {\n",
       "        text-align: right;\n",
       "    }\n",
       "</style>\n",
       "<table border=\"1\" class=\"dataframe\">\n",
       "  <thead>\n",
       "    <tr style=\"text-align: right;\">\n",
       "      <th></th>\n",
       "      <th>Fare</th>\n",
       "      <th>Outlier</th>\n",
       "    </tr>\n",
       "  </thead>\n",
       "  <tbody>\n",
       "    <tr>\n",
       "      <th>0</th>\n",
       "      <td>7.25</td>\n",
       "      <td>False</td>\n",
       "    </tr>\n",
       "    <tr>\n",
       "      <th>1</th>\n",
       "      <td>8.05</td>\n",
       "      <td>False</td>\n",
       "    </tr>\n",
       "    <tr>\n",
       "      <th>2</th>\n",
       "      <td>71.83</td>\n",
       "      <td>False</td>\n",
       "    </tr>\n",
       "    <tr>\n",
       "      <th>3</th>\n",
       "      <td>512.32</td>\n",
       "      <td>True</td>\n",
       "    </tr>\n",
       "    <tr>\n",
       "      <th>4</th>\n",
       "      <td>5.00</td>\n",
       "      <td>False</td>\n",
       "    </tr>\n",
       "  </tbody>\n",
       "</table>\n",
       "</div>"
      ],
      "text/plain": [
       "     Fare  Outlier\n",
       "0    7.25    False\n",
       "1    8.05    False\n",
       "2   71.83    False\n",
       "3  512.32     True\n",
       "4    5.00    False"
      ]
     },
     "execution_count": 4,
     "metadata": {},
     "output_type": "execute_result"
    }
   ],
   "source": [
    "#Handling Outliers\n",
    "df = pd.DataFrame({'Fare': [7.25, 8.05, 71.83, 512.32, 5.0]})\n",
    "q1 = df['Fare'].quantile(0.25)\n",
    "q3 = df['Fare'].quantile(0.75)\n",
    "IQR = q3 - q1\n",
    "lowerb = q1 - 1.5 * IQR\n",
    "upperb = q3 + 1.5 * IQR\n",
    "df['Outlier'] = (df['Fare'] < lowerb) | (df['Fare'] > upperb)\n",
    "df"
   ]
  },
  {
   "cell_type": "code",
   "execution_count": 9,
   "metadata": {},
   "outputs": [
    {
     "name": "stdout",
     "output_type": "stream",
     "text": [
      "     Fare  Outlier   Z_score\n",
      "0    7.25    False -0.575879\n",
      "1    8.05    False -0.571825\n",
      "2   71.83    False -0.248615\n",
      "3  512.32     True  1.983600\n",
      "4    5.00    False -0.587281\n"
     ]
    }
   ],
   "source": [
    "from scipy import stats\n",
    "\n",
    "# Compute Z-score\n",
    "df['Z_score'] = stats.zscore(df['Fare'])\n",
    "\n",
    "# Mark outliers where |Z| > 3\n",
    "df['Outlier'] = df['Z_score'].abs() > 1\n",
    "\n",
    "print(df)"
   ]
  },
  {
   "cell_type": "code",
   "execution_count": 11,
   "metadata": {},
   "outputs": [
    {
     "name": "stdout",
     "output_type": "stream",
     "text": [
      "    Name  Age\n",
      "0  Alice   25\n",
      "1    Bob   30\n",
      "2  Alice   25\n"
     ]
    },
    {
     "data": {
      "text/html": [
       "<div>\n",
       "<style scoped>\n",
       "    .dataframe tbody tr th:only-of-type {\n",
       "        vertical-align: middle;\n",
       "    }\n",
       "\n",
       "    .dataframe tbody tr th {\n",
       "        vertical-align: top;\n",
       "    }\n",
       "\n",
       "    .dataframe thead th {\n",
       "        text-align: right;\n",
       "    }\n",
       "</style>\n",
       "<table border=\"1\" class=\"dataframe\">\n",
       "  <thead>\n",
       "    <tr style=\"text-align: right;\">\n",
       "      <th></th>\n",
       "      <th>Name</th>\n",
       "      <th>Age</th>\n",
       "    </tr>\n",
       "  </thead>\n",
       "  <tbody>\n",
       "    <tr>\n",
       "      <th>0</th>\n",
       "      <td>Alice</td>\n",
       "      <td>25</td>\n",
       "    </tr>\n",
       "    <tr>\n",
       "      <th>1</th>\n",
       "      <td>Bob</td>\n",
       "      <td>30</td>\n",
       "    </tr>\n",
       "  </tbody>\n",
       "</table>\n",
       "</div>"
      ],
      "text/plain": [
       "    Name  Age\n",
       "0  Alice   25\n",
       "1    Bob   30"
      ]
     },
     "execution_count": 11,
     "metadata": {},
     "output_type": "execute_result"
    }
   ],
   "source": [
    "#Handling duplicates\n",
    "df = pd.DataFrame({'Name': ['Alice', 'Bob', 'Alice'],\n",
    "                   'Age': [25, 30, 25]})\n",
    "print(df)\n",
    "df = df.drop_duplicates()\n",
    "df\n"
   ]
  },
  {
   "cell_type": "code",
   "execution_count": 12,
   "metadata": {},
   "outputs": [
    {
     "name": "stdout",
     "output_type": "stream",
     "text": [
      "          City\n",
      "0     new york\n",
      "1     new york\n",
      "2     new york\n",
      "3  los angeles\n"
     ]
    }
   ],
   "source": [
    "df = pd.DataFrame({'City': ['New York', 'new york', 'NY', 'Los Angeles']})\n",
    "\n",
    "# Standardizing Text Data\n",
    "df['City'] = df['City'].str.lower().replace({'ny': 'new york'})\n",
    "print(df)\n"
   ]
  },
  {
   "cell_type": "code",
   "execution_count": 17,
   "metadata": {},
   "outputs": [
    {
     "data": {
      "text/html": [
       "<div>\n",
       "<style scoped>\n",
       "    .dataframe tbody tr th:only-of-type {\n",
       "        vertical-align: middle;\n",
       "    }\n",
       "\n",
       "    .dataframe tbody tr th {\n",
       "        vertical-align: top;\n",
       "    }\n",
       "\n",
       "    .dataframe thead th {\n",
       "        text-align: right;\n",
       "    }\n",
       "</style>\n",
       "<table border=\"1\" class=\"dataframe\">\n",
       "  <thead>\n",
       "    <tr style=\"text-align: right;\">\n",
       "      <th></th>\n",
       "      <th>Date</th>\n",
       "      <th>Year</th>\n",
       "      <th>Month</th>\n",
       "      <th>Day</th>\n",
       "    </tr>\n",
       "  </thead>\n",
       "  <tbody>\n",
       "    <tr>\n",
       "      <th>0</th>\n",
       "      <td>2024-01-01</td>\n",
       "      <td>2024</td>\n",
       "      <td>1</td>\n",
       "      <td>1</td>\n",
       "    </tr>\n",
       "    <tr>\n",
       "      <th>1</th>\n",
       "      <td>2023-12-31</td>\n",
       "      <td>2023</td>\n",
       "      <td>12</td>\n",
       "      <td>31</td>\n",
       "    </tr>\n",
       "    <tr>\n",
       "      <th>2</th>\n",
       "      <td>2022-06-15</td>\n",
       "      <td>2022</td>\n",
       "      <td>6</td>\n",
       "      <td>15</td>\n",
       "    </tr>\n",
       "  </tbody>\n",
       "</table>\n",
       "</div>"
      ],
      "text/plain": [
       "        Date  Year  Month  Day\n",
       "0 2024-01-01  2024      1    1\n",
       "1 2023-12-31  2023     12   31\n",
       "2 2022-06-15  2022      6   15"
      ]
     },
     "execution_count": 17,
     "metadata": {},
     "output_type": "execute_result"
    }
   ],
   "source": [
    "#Handling Date and Time\n",
    "df = pd.DataFrame({'Date': ['2024-01-01', '2023-12-31', '2022-06-15']})\n",
    "df['Date'] = pd.to_datetime(df['Date'])\n",
    "df['Year'] = df['Date'].dt.year\n",
    "df['Month'] = df['Date'].dt.month\n",
    "df['Day'] = df['Date'].dt.day\n",
    "df"
   ]
  },
  {
   "cell_type": "code",
   "execution_count": 18,
   "metadata": {},
   "outputs": [
    {
     "name": "stdout",
     "output_type": "stream",
     "text": [
      "      Name\n",
      "0    Alice\n",
      "1      Bob\n",
      "2  Charlie\n"
     ]
    }
   ],
   "source": [
    "df = pd.DataFrame({'Name': [' Alice ', 'Bob  ', '  Charlie']})\n",
    "\n",
    "# Remove leading and trailing spaces\n",
    "df['Name'] = df['Name'].str.strip()\n",
    "print(df)"
   ]
  },
  {
   "cell_type": "code",
   "execution_count": 19,
   "metadata": {},
   "outputs": [
    {
     "data": {
      "text/html": [
       "<div>\n",
       "<style scoped>\n",
       "    .dataframe tbody tr th:only-of-type {\n",
       "        vertical-align: middle;\n",
       "    }\n",
       "\n",
       "    .dataframe tbody tr th {\n",
       "        vertical-align: top;\n",
       "    }\n",
       "\n",
       "    .dataframe thead th {\n",
       "        text-align: right;\n",
       "    }\n",
       "</style>\n",
       "<table border=\"1\" class=\"dataframe\">\n",
       "  <thead>\n",
       "    <tr style=\"text-align: right;\">\n",
       "      <th></th>\n",
       "      <th>Temperature</th>\n",
       "    </tr>\n",
       "  </thead>\n",
       "  <tbody>\n",
       "    <tr>\n",
       "      <th>0</th>\n",
       "      <td>35.0</td>\n",
       "    </tr>\n",
       "    <tr>\n",
       "      <th>1</th>\n",
       "      <td>98.0</td>\n",
       "    </tr>\n",
       "    <tr>\n",
       "      <th>2</th>\n",
       "      <td>25.0</td>\n",
       "    </tr>\n",
       "    <tr>\n",
       "      <th>3</th>\n",
       "      <td>100.0</td>\n",
       "    </tr>\n",
       "  </tbody>\n",
       "</table>\n",
       "</div>"
      ],
      "text/plain": [
       "   Temperature\n",
       "0         35.0\n",
       "1         98.0\n",
       "2         25.0\n",
       "3        100.0"
      ]
     },
     "execution_count": 19,
     "metadata": {},
     "output_type": "execute_result"
    }
   ],
   "source": [
    "#Incorrect formats\n",
    "df = pd.DataFrame({'Temperature': ['35C', '98F', '25C', '100F']})\n",
    "df['Temperature'] = df['Temperature'].str.extract(r'(\\d+)').astype(float)\n",
    "df"
   ]
  },
  {
   "cell_type": "code",
   "execution_count": 24,
   "metadata": {},
   "outputs": [
    {
     "data": {
      "text/html": [
       "<div>\n",
       "<style scoped>\n",
       "    .dataframe tbody tr th:only-of-type {\n",
       "        vertical-align: middle;\n",
       "    }\n",
       "\n",
       "    .dataframe tbody tr th {\n",
       "        vertical-align: top;\n",
       "    }\n",
       "\n",
       "    .dataframe thead th {\n",
       "        text-align: right;\n",
       "    }\n",
       "</style>\n",
       "<table border=\"1\" class=\"dataframe\">\n",
       "  <thead>\n",
       "    <tr style=\"text-align: right;\">\n",
       "      <th></th>\n",
       "      <th>Salary</th>\n",
       "    </tr>\n",
       "  </thead>\n",
       "  <tbody>\n",
       "    <tr>\n",
       "      <th>0</th>\n",
       "      <td>3000</td>\n",
       "    </tr>\n",
       "    <tr>\n",
       "      <th>1</th>\n",
       "      <td>5000</td>\n",
       "    </tr>\n",
       "    <tr>\n",
       "      <th>2</th>\n",
       "      <td>4000</td>\n",
       "    </tr>\n",
       "    <tr>\n",
       "      <th>3</th>\n",
       "      <td>1000</td>\n",
       "    </tr>\n",
       "  </tbody>\n",
       "</table>\n",
       "</div>"
      ],
      "text/plain": [
       "   Salary\n",
       "0    3000\n",
       "1    5000\n",
       "2    4000\n",
       "3    1000"
      ]
     },
     "execution_count": 24,
     "metadata": {},
     "output_type": "execute_result"
    }
   ],
   "source": [
    "df = pd.DataFrame({'Salary': [3000, -5000, 4000, -1000]})\n",
    "df['Salary'] = df['Salary'].apply(lambda x: -x if x < 0 else x )\n",
    "df"
   ]
  },
  {
   "cell_type": "code",
   "execution_count": 25,
   "metadata": {},
   "outputs": [
    {
     "name": "stdout",
     "output_type": "stream",
     "text": [
      "   Price\n",
      "0  100.0\n",
      "1  200.0\n",
      "2    NaN\n",
      "3  400.0\n"
     ]
    }
   ],
   "source": [
    "df = pd.DataFrame({'Price': ['100', '200', 'Three Hundred', '400']})\n",
    "\n",
    "# Convert non-numeric values to NaN\n",
    "df['Price'] = pd.to_numeric(df['Price'], errors='coerce')\n",
    "print(df)"
   ]
  },
  {
   "cell_type": "markdown",
   "metadata": {},
   "source": [
    "#Other syntaxes\n",
    "# Drop rows with any missing values\n",
    "df.dropna(inplace=True)\n",
    "\n",
    "# Drop columns with any missing values\n",
    "df.dropna(axis=1, inplace=True)\n",
    "\n",
    "# Drop rows where a specific column has missing values\n",
    "df.dropna(subset=['Price'], inplace=True)\n",
    "# Fill missing values with a constant\n",
    "df.fillna(value=0, inplace=True)\n",
    "\n",
    "# Fill missing values with column mean\n",
    "df['ColumnName'].fillna(df['ColumnName'].mean(), inplace=True)\n",
    "\n",
    "# Fill missing values using forward fill\n",
    "df.fillna(method='ffill', inplace=True)\n",
    "\n",
    "# Fill missing values using backward fill\n",
    "df.fillna(method='bfill', inplace=True)\n",
    "\n",
    "# Merge two dataframes on a common column\n",
    "df_merged = pd.merge(df1, df2, on='CommonColumn', how='inner')\n",
    "\n",
    "# Concatenating dataframes vertically\n",
    "df_combined = pd.concat([df1, df2], axis=0)\n",
    "\n",
    "# Filter rows based on a condition\n",
    "filtered_df = df[df['ColumnName'] > 50]\n",
    "\n",
    "# Select specific columns\n",
    "selected_df = df[['Column1', 'Column2']]\n",
    "\n",
    "# Multiply values in a column by 2\n",
    "df['NewColumn'] = df['ColumnName'].apply(lambda x: x * 2)\n",
    "\n",
    "# Convert column to uppercase\n",
    "df['UpperName'] = df['Name'].apply(str.upper)\n",
    "\n",
    "# Replace values based on a mapping dictionary\n",
    "mapping = {'Male': 1, 'Female': 0}\n",
    "df['GenderNumeric'] = df['Gender'].map(mapping)\n",
    "\n",
    "# Convert all string values in DataFrame to lowercase\n",
    "df = df.applymap(lambda x: x.lower() if isinstance(x, str) else x)\n",
    "\n",
    "# Group by a column and calculate sum\n",
    "df_grouped = df.groupby('Category')['Sales'].sum()\n",
    "# Group by multiple columns and calculate mean and count\n",
    "df_grouped = df.groupby(['Category', 'Subcategory']).agg({'Sales': ['sum', 'mean'], 'Profit': 'count'})\n",
    "\n",
    "# Define a custom function\n",
    "def range_func(x):\n",
    "    return x.max() - x.min()\n",
    "\n",
    "# Apply custom function in aggregation\n",
    "df_grouped = df.groupby('Category')['Sales'].agg(range_func)\n",
    "# Compute the mean within each group and keep the original shape\n",
    "df['CategoryMean'] = df.groupby('Category')['Sales'].transform('mean')\n",
    "\n",
    "# Find rows where column contains a specific word\n",
    "df_filtered = df[df['Description'].str.contains('error', case=False, na=False)]\n",
    "\n",
    "# Replace special characters with an empty string\n",
    "df['CleanedText'] = df['TextColumn'].str.replace(r'[^A-Za-z0-9 ]+', '', regex=True)\n",
    "\n",
    "\n",
    "# Select only numeric columns\n",
    "numeric_df = df.select_dtypes(include=['number'])\n",
    "\n",
    "# Select only string columns\n",
    "string_df = df.select_dtypes(include=['object'])\n",
    "\n",
    "# Select columns containing a specific word\n",
    "df_filtered = df.filter(like='Price', axis=1)\n",
    "\n",
    "# Select columns that start with 'Sales'\n",
    "df_filtered = df.filter(regex='^Sales', axis=1)\n",
    "# Keep only columns where at least one value is greater than 100\n",
    "df_filtered = df.loc[:, (df > 100).any()]\n"
   ]
  }
 ],
 "metadata": {
  "kernelspec": {
   "display_name": "Python 3",
   "language": "python",
   "name": "python3"
  },
  "language_info": {
   "codemirror_mode": {
    "name": "ipython",
    "version": 3
   },
   "file_extension": ".py",
   "mimetype": "text/x-python",
   "name": "python",
   "nbconvert_exporter": "python",
   "pygments_lexer": "ipython3",
   "version": "3.11.2"
  }
 },
 "nbformat": 4,
 "nbformat_minor": 2
}
